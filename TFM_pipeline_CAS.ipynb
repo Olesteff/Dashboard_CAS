{
 "cells": [
  {
   "cell_type": "markdown",
   "id": "8d179281",
   "metadata": {},
   "source": [
    "\n",
    "# 📚 TFM CAS–UDD · Pipeline final\n",
    "**Unificación Scopus/WoS/PubMed + OA + Incites (JCR) + Scimago (SJR)**  \n",
    "Clave única consistente: **`ISSN_key`** (evita conflictos con `ISSN_norm`).\n"
   ]
  },
  {
   "cell_type": "code",
   "execution_count": 1,
   "id": "fd1d8b81",
   "metadata": {},
   "outputs": [],
   "source": [
    "\n",
    "import os, re, warnings\n",
    "import numpy as np\n",
    "import pandas as pd\n",
    "import unicodedata as ud\n",
    "import matplotlib.pyplot as plt\n",
    "import plotly.express as px\n",
    "\n",
    "# Silenciar warning de estilos openpyxl\n",
    "warnings.filterwarnings(\"ignore\", category=UserWarning, module=\"openpyxl\")\n",
    "warnings.simplefilter(\"ignore\", FutureWarning)\n",
    "\n",
    "pd.set_option(\"display.max_columns\", None)\n",
    "pd.set_option(\"display.width\", 200)\n",
    "\n",
    "# Archivos de entrada (ajusta si es necesario)\n",
    "SCOPUS_FILE   = \"scopus.csv\"\n",
    "WOS_FILE      = \"wos.xlsx\"\n",
    "PUBMED_FILE   = \"pubmed.csv\"\n",
    "\n",
    "INCITES_A     = \"Incites.xlsx\"\n",
    "INCITES_B     = \"Incites_Medicina.xlsx\"\n",
    "SCIMAGO_2024  = \"scimago2024.xlsx\"\n",
    "\n",
    "# Salidas\n",
    "OUTPUT_XLSX   = \"dataset_unificado_enriquecido_jcr_PLUS.xlsx\"\n",
    "OUTPUT_SHEET  = \"Consolidado_enriq\"\n",
    "OUTPUT_CSV    = \"dataset_unificado_enriquecido_jcr_PLUS.csv\"\n"
   ]
  },
  {
   "cell_type": "markdown",
   "id": "a19abbe2",
   "metadata": {},
   "source": [
    "## 🔧 Utilidades de normalización y lectura"
   ]
  },
  {
   "cell_type": "code",
   "execution_count": 2,
   "id": "2444d8b8",
   "metadata": {},
   "outputs": [],
   "source": [
    "\n",
    "def _first_existing_col(df, *cands):\n",
    "    for c in cands:\n",
    "        if c in df.columns:\n",
    "            return c\n",
    "    return None\n",
    "\n",
    "def _norm_text(s):\n",
    "    if pd.isna(s): return np.nan\n",
    "    t = ud.normalize(\"NFKD\", str(s)).encode(\"ascii\",\"ignore\").decode(\"ascii\")\n",
    "    t = t.lower()\n",
    "    t = re.sub(r\"\\s+\", \" \", re.sub(r\"[^a-z0-9&/() .,-]\", \" \", t)).strip()\n",
    "    return t or np.nan\n",
    "\n",
    "def _norm_title(s):\n",
    "    if pd.isna(s): return np.nan\n",
    "    t = ud.normalize(\"NFKD\", str(s)).encode(\"ascii\",\"ignore\").decode(\"ascii\").lower()\n",
    "    t = re.sub(r\"[^a-z0-9 ]\", \" \", t)\n",
    "    t = re.sub(r\"\\s+\", \" \", t).strip()\n",
    "    return t or np.nan\n",
    "\n",
    "def _norm_journal_name(s):\n",
    "    if pd.isna(s): return np.nan\n",
    "    t = ud.normalize(\"NFKD\", str(s)).encode(\"ascii\",\"ignore\").decode(\"ascii\").lower()\n",
    "    t = t.replace(\"&\", \" and \")\n",
    "    t = re.sub(r\"\\(.*?\\)\", \" \", t)\n",
    "    t = re.sub(r\"[^a-z0-9 ]\", \" \", t)\n",
    "    t = re.sub(r\"\\b(the|journal|revista|of|de|la|el|and|on|for|in)\\b\", \" \", t)\n",
    "    t = re.sub(r\"\\s+\", \" \", t).strip()\n",
    "    return t or np.nan\n",
    "\n",
    "def _norm_issn(s):\n",
    "    if pd.isna(s): return np.nan\n",
    "    t = re.sub(r\"[^0-9Xx]\", \"\", str(s))\n",
    "    return (t[:4] + \"-\" + t[4:]).upper() if len(t) == 8 else np.nan\n",
    "\n",
    "def safe_read(path, **kwargs):\n",
    "    if not os.path.exists(path):\n",
    "        raise FileNotFoundError(f\"No se encontró: {path}\")\n",
    "    ext = os.path.splitext(path)[1].lower()\n",
    "    if ext in [\".xlsx\", \".xls\"]:\n",
    "        return pd.read_excel(path, **kwargs)\n",
    "    elif ext == \".csv\":\n",
    "        return pd.read_csv(path, **kwargs)\n",
    "    else:\n",
    "        raise ValueError(f\"Formato no soportado: {ext}\")\n"
   ]
  },
  {
   "cell_type": "markdown",
   "id": "a02eaeec",
   "metadata": {},
   "source": [
    "## 🪪 IDs y `matchkey` (jerárquico, sin fallback)"
   ]
  },
  {
   "cell_type": "code",
   "execution_count": 3,
   "id": "30cd8b83",
   "metadata": {},
   "outputs": [],
   "source": [
    "\n",
    "def create_ids(df, source):\n",
    "    doi_col = _first_existing_col(df, \"DOI\", \"doi\")\n",
    "    pmid_col = _first_existing_col(df, \"PMID\",\"PubMed ID\",\"pubmed_id\",\"PubMedID\")\n",
    "    eid_col  = _first_existing_col(df, \"EID\",\"eid\")\n",
    "    ut_col   = _first_existing_col(df, \"UT\",\"ut\")\n",
    "    year_col = _first_existing_col(df, \"Year\",\"PY\",\"Publication Year\",\"PubYear\",\"year\")\n",
    "\n",
    "    ids = []\n",
    "    for i, row in df.iterrows():\n",
    "        doi  = str(row[doi_col]) if doi_col and pd.notna(row[doi_col]) else None\n",
    "        pmid = str(row[pmid_col]) if pmid_col and pd.notna(row[pmid_col]) else None\n",
    "        eid  = str(row[eid_col]) if eid_col and pd.notna(row[eid_col]) else None\n",
    "        ut   = str(row[ut_col]) if ut_col and pd.notna(row[ut_col]) else None\n",
    "\n",
    "        if doi: fid = doi\n",
    "        elif pmid: fid = pmid\n",
    "        elif eid: fid = eid\n",
    "        elif ut:  fid = ut\n",
    "        else:     fid = f\"NOID::{source}::{i}\"\n",
    "        ids.append(fid)\n",
    "\n",
    "    df[\"ID_final\"] = ids\n",
    "\n",
    "    # Año limpio\n",
    "    if year_col:\n",
    "        df[\"Year_clean\"] = pd.to_numeric(df[year_col], errors=\"coerce\").astype(\"Int64\")\n",
    "    else:\n",
    "        df[\"Year_clean\"] = pd.NA\n",
    "\n",
    "    return df\n",
    "\n",
    "def make_matchkey(row):\n",
    "    # 1) DOI\n",
    "    if \"DOI\" in row and pd.notna(row[\"DOI\"]) and str(row[\"DOI\"]).strip():\n",
    "        return f\"DOI:{str(row['DOI']).strip()}\"\n",
    "    # 2) PMID\n",
    "    for c in [\"PMID\",\"PubMed ID\",\"pubmed_id\",\"PubMedID\"]:\n",
    "        if c in row and pd.notna(row[c]) and str(row[c]).strip():\n",
    "            return f\"PMID:{str(row[c]).strip()}\"\n",
    "\n",
    "    # 3) TIT + SRC + YEAR + AUTH(3)\n",
    "    title  = _norm_title(row.get(\"Title\", \"\")) or \"\"\n",
    "    if not isinstance(title, str): title = str(title)\n",
    "\n",
    "    source = _norm_journal_name(row.get(\"Source title\", \"\")) or \"\"\n",
    "    if not isinstance(source, str): source = str(source)\n",
    "\n",
    "    yv = row.get(\"Year_clean\", \"\")\n",
    "    if pd.notna(yv) and str(yv).strip():\n",
    "        try: year = str(int(float(yv)))\n",
    "        except: year = str(yv).strip()\n",
    "    else:\n",
    "        year = \"\"\n",
    "\n",
    "    autores = _norm_text(row.get(\"Authors\", \"\")) or \"\"\n",
    "    if isinstance(autores, str):\n",
    "        autores_lista = [a.strip() for a in autores.split(\",\") if a.strip()][:3]\n",
    "    else:\n",
    "        autores_lista = []\n",
    "    autores_norm = \"_\".join(autores_lista)\n",
    "\n",
    "    return f\"TIT:{title[:50]}|SRC:{source[:30]}|YEAR:{year}|AUTH:{autores_norm}\"\n"
   ]
  },
  {
   "cell_type": "markdown",
   "id": "406cfd3c",
   "metadata": {},
   "source": [
    "## 🔓 Open Access por origen"
   ]
  },
  {
   "cell_type": "code",
   "execution_count": 4,
   "id": "e6c3a26d",
   "metadata": {},
   "outputs": [],
   "source": [
    "\n",
    "OA_TRUE_TOKENS = [\"open\",\"oa\",\"gold\",\"hybrid\",\"green\",\"bronze\",\"doaj\",\"yes\",\"y\",\"si\",\"true\",\"1\"]\n",
    "\n",
    "def _to_bool_oa(val):\n",
    "    if pd.isna(val): return False\n",
    "    s = str(val).strip().lower()\n",
    "    if s in [\"false\",\"0\",\"no\",\"n\",\"closed\",\"none\",\"nan\",\"\"]:\n",
    "        return False\n",
    "    return any(tok in s for tok in OA_TRUE_TOKENS)\n",
    "\n",
    "def add_oa_flag(df, source):\n",
    "    cols = [c for c in df.columns if re.search(r\"open|access|oa\", str(c), flags=re.I)]\n",
    "    if not cols:\n",
    "        df[f\"OA_{source}\"] = False\n",
    "        return df\n",
    "    oa_any = np.zeros(len(df), dtype=bool)\n",
    "    for c in cols:\n",
    "        oa_any |= df[c].map(_to_bool_oa).values\n",
    "    df[f\"OA_{source}\"] = oa_any\n",
    "    return df\n"
   ]
  },
  {
   "cell_type": "markdown",
   "id": "033dcb79",
   "metadata": {},
   "source": [
    "## 📥 Carga de datasets y preparación"
   ]
  },
  {
   "cell_type": "code",
   "execution_count": 5,
   "id": "c6dd7130",
   "metadata": {},
   "outputs": [
    {
     "name": "stdout",
     "output_type": "stream",
     "text": [
      "Scopus: (4679, 36)\n",
      "WoS   : (3279, 76)\n",
      "PubMed: (3173, 15)\n"
     ]
    }
   ],
   "source": [
    "\n",
    "df_scopus = safe_read(SCOPUS_FILE)\n",
    "df_wos    = safe_read(WOS_FILE)\n",
    "df_pubmed = safe_read(PUBMED_FILE)\n",
    "\n",
    "# OA por origen\n",
    "df_scopus = add_oa_flag(df_scopus, \"Scopus\")\n",
    "df_wos    = add_oa_flag(df_wos, \"WoS\")\n",
    "df_pubmed = add_oa_flag(df_pubmed, \"PubMed\")\n",
    "\n",
    "# IDs + matchkey\n",
    "df_scopus = create_ids(df_scopus, \"Scopus\")\n",
    "df_wos    = create_ids(df_wos,    \"WoS\")\n",
    "df_pubmed = create_ids(df_pubmed, \"PubMed\")\n",
    "\n",
    "df_scopus[\"matchkey\"] = df_scopus.apply(make_matchkey, axis=1)\n",
    "df_wos[\"matchkey\"]    = df_wos.apply(make_matchkey, axis=1)\n",
    "df_pubmed[\"matchkey\"] = df_pubmed.apply(make_matchkey, axis=1)\n",
    "\n",
    "print(\"Scopus:\", df_scopus.shape)\n",
    "print(\"WoS   :\", df_wos.shape)\n",
    "print(\"PubMed:\", df_pubmed.shape)\n"
   ]
  },
  {
   "cell_type": "markdown",
   "id": "aae19b70",
   "metadata": {},
   "source": [
    "## 📊 Análisis de identificadores y duplicados (pre-deduplicación)"
   ]
  },
  {
   "cell_type": "code",
   "execution_count": 6,
   "id": "7bb34b33",
   "metadata": {},
   "outputs": [
    {
     "data": {
      "text/html": [
       "<div>\n",
       "<style scoped>\n",
       "    .dataframe tbody tr th:only-of-type {\n",
       "        vertical-align: middle;\n",
       "    }\n",
       "\n",
       "    .dataframe tbody tr th {\n",
       "        vertical-align: top;\n",
       "    }\n",
       "\n",
       "    .dataframe thead th {\n",
       "        text-align: right;\n",
       "    }\n",
       "</style>\n",
       "<table border=\"1\" class=\"dataframe\">\n",
       "  <thead>\n",
       "    <tr style=\"text-align: right;\">\n",
       "      <th></th>\n",
       "      <th>ID_type</th>\n",
       "      <th>Count</th>\n",
       "    </tr>\n",
       "  </thead>\n",
       "  <tbody>\n",
       "    <tr>\n",
       "      <th>0</th>\n",
       "      <td>DOI</td>\n",
       "      <td>9930</td>\n",
       "    </tr>\n",
       "    <tr>\n",
       "      <th>1</th>\n",
       "      <td>NOID</td>\n",
       "      <td>734</td>\n",
       "    </tr>\n",
       "    <tr>\n",
       "      <th>2</th>\n",
       "      <td>EID</td>\n",
       "      <td>211</td>\n",
       "    </tr>\n",
       "    <tr>\n",
       "      <th>3</th>\n",
       "      <td>OTHER</td>\n",
       "      <td>162</td>\n",
       "    </tr>\n",
       "    <tr>\n",
       "      <th>4</th>\n",
       "      <td>PMID</td>\n",
       "      <td>94</td>\n",
       "    </tr>\n",
       "  </tbody>\n",
       "</table>\n",
       "</div>"
      ],
      "text/plain": [
       "  ID_type  Count\n",
       "0     DOI   9930\n",
       "1    NOID    734\n",
       "2     EID    211\n",
       "3   OTHER    162\n",
       "4    PMID     94"
      ]
     },
     "metadata": {},
     "output_type": "display_data"
    },
    {
     "data": {
      "text/html": [
       "<div>\n",
       "<style scoped>\n",
       "    .dataframe tbody tr th:only-of-type {\n",
       "        vertical-align: middle;\n",
       "    }\n",
       "\n",
       "    .dataframe tbody tr th {\n",
       "        vertical-align: top;\n",
       "    }\n",
       "\n",
       "    .dataframe thead th {\n",
       "        text-align: right;\n",
       "    }\n",
       "</style>\n",
       "<table border=\"1\" class=\"dataframe\">\n",
       "  <thead>\n",
       "    <tr style=\"text-align: right;\">\n",
       "      <th></th>\n",
       "      <th>ID_type</th>\n",
       "      <th>Count</th>\n",
       "      <th>Duplicados</th>\n",
       "      <th>Eliminados</th>\n",
       "      <th>Final</th>\n",
       "    </tr>\n",
       "  </thead>\n",
       "  <tbody>\n",
       "    <tr>\n",
       "      <th>0</th>\n",
       "      <td>DOI</td>\n",
       "      <td>9930</td>\n",
       "      <td>5122.0</td>\n",
       "      <td>5122.0</td>\n",
       "      <td>4808.0</td>\n",
       "    </tr>\n",
       "    <tr>\n",
       "      <th>1</th>\n",
       "      <td>NOID</td>\n",
       "      <td>734</td>\n",
       "      <td>0.0</td>\n",
       "      <td>0.0</td>\n",
       "      <td>734.0</td>\n",
       "    </tr>\n",
       "    <tr>\n",
       "      <th>2</th>\n",
       "      <td>EID</td>\n",
       "      <td>211</td>\n",
       "      <td>0.0</td>\n",
       "      <td>0.0</td>\n",
       "      <td>211.0</td>\n",
       "    </tr>\n",
       "    <tr>\n",
       "      <th>3</th>\n",
       "      <td>OTHER</td>\n",
       "      <td>162</td>\n",
       "      <td>0.0</td>\n",
       "      <td>0.0</td>\n",
       "      <td>162.0</td>\n",
       "    </tr>\n",
       "    <tr>\n",
       "      <th>4</th>\n",
       "      <td>PMID</td>\n",
       "      <td>94</td>\n",
       "      <td>0.0</td>\n",
       "      <td>0.0</td>\n",
       "      <td>94.0</td>\n",
       "    </tr>\n",
       "  </tbody>\n",
       "</table>\n",
       "</div>"
      ],
      "text/plain": [
       "  ID_type  Count  Duplicados  Eliminados   Final\n",
       "0     DOI   9930      5122.0      5122.0  4808.0\n",
       "1    NOID    734         0.0         0.0   734.0\n",
       "2     EID    211         0.0         0.0   211.0\n",
       "3   OTHER    162         0.0         0.0   162.0\n",
       "4    PMID     94         0.0         0.0    94.0"
      ]
     },
     "metadata": {},
     "output_type": "display_data"
    }
   ],
   "source": [
    "\n",
    "all_rows = pd.concat([df_scopus, df_wos, df_pubmed], ignore_index=True, sort=False)\n",
    "\n",
    "def detect_id_type(fid):\n",
    "    if pd.isna(fid): \n",
    "        return \"UNKNOWN\"\n",
    "    s = str(fid)\n",
    "    if s.startswith(\"10.\"):\n",
    "        return \"DOI\"\n",
    "    elif s.startswith(\"NOID::\"):\n",
    "        return \"NOID\"\n",
    "    elif s.isdigit():\n",
    "        return \"PMID\"\n",
    "    elif s.startswith(\"2-s2.0-\"):\n",
    "        return \"EID\"\n",
    "    elif s.startswith(\"WOS:\") or s.startswith(\"UT\"):\n",
    "        return \"UT\"\n",
    "    else:\n",
    "        return \"OTHER\"\n",
    "\n",
    "all_rows[\"ID_type\"] = all_rows[\"ID_final\"].map(detect_id_type)\n",
    "\n",
    "# Totales por tipo\n",
    "id_counts = all_rows[\"ID_type\"].value_counts().reset_index()\n",
    "id_counts.columns = [\"ID_type\", \"Count\"]\n",
    "display(id_counts)\n",
    "\n",
    "# Duplicados por tipo (filas que se eliminarían al deduplicar por ID_final)\n",
    "dup_mask = all_rows.duplicated(subset=[\"ID_final\"], keep=\"first\")\n",
    "dup_by_type = all_rows.loc[dup_mask].groupby(\"ID_type\")[\"ID_final\"].count().reset_index()\n",
    "dup_by_type.columns = [\"ID_type\", \"Duplicados\"]\n",
    "\n",
    "# Resumen\n",
    "stats_df = pd.merge(id_counts, dup_by_type, on=\"ID_type\", how=\"left\").fillna(0)\n",
    "stats_df[\"Eliminados\"] = stats_df[\"Duplicados\"]\n",
    "stats_df[\"Final\"] = stats_df[\"Count\"] - stats_df[\"Eliminados\"]\n",
    "display(stats_df)\n"
   ]
  },
  {
   "cell_type": "markdown",
   "id": "005a1887",
   "metadata": {},
   "source": [
    "## 🧹 Deduplicación por `ID_final` y `matchkey`"
   ]
  },
  {
   "cell_type": "code",
   "execution_count": 7,
   "id": "d2071052",
   "metadata": {},
   "outputs": [
    {
     "name": "stdout",
     "output_type": "stream",
     "text": [
      "Con ID: 5275 | Sin ID: 716\n",
      "✅ Unificado: (5991, 110) | OA true: 3100\n"
     ]
    }
   ],
   "source": [
    "\n",
    "# Consolidar OA antes de deduplicar\n",
    "for col in [\"OA_Scopus\",\"OA_WoS\",\"OA_PubMed\"]:\n",
    "    if col in all_rows.columns:\n",
    "        # Con ID válido\n",
    "        mask_id = ~all_rows[\"ID_final\"].str.startswith(\"NOID::\", na=False)\n",
    "        all_rows.loc[mask_id, col] = all_rows.loc[mask_id].groupby(\"ID_final\")[col].transform(lambda s: s.fillna(False).astype(bool).max())\n",
    "        # Sin ID (NOID) usar matchkey\n",
    "        mask_noid = ~mask_id\n",
    "        all_rows.loc[mask_noid, col] = all_rows.loc[mask_noid].groupby(\"matchkey\")[col].transform(lambda s: s.fillna(False).astype(bool).max())\n",
    "\n",
    "# Deduplicación\n",
    "mask_has_id = ~all_rows[\"ID_final\"].str.startswith(\"NOID::\", na=False)\n",
    "df_with_id = all_rows.loc[mask_has_id].drop_duplicates(subset=[\"ID_final\"], keep=\"first\")\n",
    "df_no_id   = all_rows.loc[~mask_has_id].drop_duplicates(subset=[\"matchkey\"], keep=\"first\")\n",
    "df_all = pd.concat([df_with_id, df_no_id], ignore_index=True, sort=False)\n",
    "\n",
    "# OA consolidado\n",
    "oa_cols = [c for c in [\"OA_Scopus\",\"OA_WoS\",\"OA_PubMed\"] if c in df_all.columns]\n",
    "df_all[\"OpenAccess_flag\"] = df_all[oa_cols].fillna(False).any(axis=1) if oa_cols else False\n",
    "\n",
    "print(\"Con ID:\", df_with_id.shape[0], \"| Sin ID:\", df_no_id.shape[0])\n",
    "print(\"✅ Unificado:\", df_all.shape, \"| OA true:\", int(df_all['OpenAccess_flag'].sum()))\n"
   ]
  },
  {
   "cell_type": "markdown",
   "id": "b643072e",
   "metadata": {},
   "source": [
    "## 🧠 Enriquecimiento con Incites (JCR) usando `ISSN_key`"
   ]
  },
  {
   "cell_type": "code",
   "execution_count": 8,
   "id": "2a7e7baa",
   "metadata": {},
   "outputs": [],
   "source": [
    "\n",
    "def load_incites(path):\n",
    "    df = safe_read(path)\n",
    "    if \"Name\" not in df.columns:\n",
    "        name_col = _first_existing_col(df, \"Full Journal Title\", \"Source Title\", \"Journal\")\n",
    "        if name_col:\n",
    "            df = df.rename(columns={name_col: \"Name\"})\n",
    "    df[\"ISSN_norm\"]    = df.get(\"ISSN\", pd.Series(np.nan, index=df.index)).map(_norm_issn)\n",
    "    df[\"eISSN_norm\"]   = df.get(\"eISSN\", pd.Series(np.nan, index=df.index)).map(_norm_issn)\n",
    "    df[\"Journal_norm\"] = df.get(\"Name\", pd.Series(np.nan, index=df.index)).map(_norm_journal_name)\n",
    "    df[\"ISSN_any\"]     = df[\"ISSN_norm\"].fillna(df[\"eISSN_norm\"])\n",
    "    return df\n",
    "\n",
    "inc_a = load_incites(INCITES_A)\n",
    "inc_b = load_incites(INCITES_B)\n",
    "incites_all = pd.concat([inc_a, inc_b], ignore_index=True)\n",
    "\n",
    "# Preferir filas \"mejores\" (si hay JIF/JCI)\n",
    "sort_cols = [c for c in [\"Journal Impact Factor\",\"JIF\",\"JCI Percentile\"] if c in incites_all.columns]\n",
    "if sort_cols:\n",
    "    incites_all = incites_all.sort_values(by=sort_cols, ascending=False, na_position=\"last\")\n",
    "\n",
    "# Catálogos por ISSN y por nombre\n",
    "incites_by_issn = incites_all.dropna(subset=[\"ISSN_any\"]).drop_duplicates(subset=[\"ISSN_any\"], keep=\"first\")\n",
    "incites_by_name = incites_all.dropna(subset=[\"Journal_norm\"]).drop_duplicates(subset=[\"Journal_norm\"], keep=\"first\")\n",
    "\n",
    "# Preparar claves en df_all\n",
    "issn_col_all = _first_existing_col(df_all, \"ISSN\",\"eISSN\",\"issn\",\"ISSN-L\")\n",
    "df_all[\"ISSN_key\"] = df_all[issn_col_all].map(_norm_issn) if issn_col_all else np.nan\n",
    "journal_col_all = _first_existing_col(df_all,\"Source title\",\"Journal\",\"Revista\",\"Publication Title\",\"Journal Title\",\"Source\")\n",
    "df_all[\"Journal_norm\"] = df_all[journal_col_all].map(_norm_journal_name) if journal_col_all else np.nan\n",
    "\n",
    "keep_inc_cols = [c for c in incites_all.columns if c not in [\"ISSN_norm\",\"eISSN_norm\",\"ISSN_any\",\"Journal_norm\"]]\n",
    "\n",
    "# Merge por ISSN_key\n",
    "ref_inc_issn = incites_by_issn.rename(columns={\"ISSN_any\":\"ISSN_key\"})[[\"ISSN_key\",\"Journal_norm\"] + keep_inc_cols]\n",
    "m1 = pd.merge(df_all, ref_inc_issn, on=\"ISSN_key\", how=\"left\", suffixes=(\"\",\"_inc\"))\n",
    "\n",
    "# Completar por nombre\n",
    "probe_inc = \"Journal Impact Factor\" if \"Journal Impact Factor\" in m1.columns else (keep_inc_cols[0] if keep_inc_cols else None)\n",
    "mask_no_inc = m1[probe_inc].isna() if probe_inc else (m1.index==m1.index)\n",
    "ref_inc_name = incites_by_name[[\"Journal_norm\"] + keep_inc_cols]\n",
    "\n",
    "df_after_inc = pd.concat([\n",
    "    m1.loc[~mask_no_inc],\n",
    "    pd.merge(df_all.loc[mask_no_inc], ref_inc_name, on=\"Journal_norm\", how=\"left\", suffixes=(\"\",\"_inc\"))\n",
    "], ignore_index=True)\n"
   ]
  },
  {
   "cell_type": "markdown",
   "id": "ffaab19b",
   "metadata": {},
   "source": [
    "## 🧠 Enriquecimiento con Scimago (SJR) usando `ISSN_key`"
   ]
  },
  {
   "cell_type": "code",
   "execution_count": 9,
   "id": "1e350196",
   "metadata": {},
   "outputs": [
    {
     "name": "stdout",
     "output_type": "stream",
     "text": [
      "✅ Enriquecido final: (5991, 154)\n"
     ]
    }
   ],
   "source": [
    "\n",
    "df_sjr = safe_read(SCIMAGO_2024)\n",
    "title_sjr_col = _first_existing_col(df_sjr, \"Title\", \"Journal\", \"Source Title\", \"Name\")\n",
    "issn_sjr_col  = _first_existing_col(df_sjr, \"ISSN\", \"Issn\", \"eISSN\")\n",
    "\n",
    "df_sjr[\"Journal_norm\"] = df_sjr[title_sjr_col].map(_norm_journal_name) if title_sjr_col else np.nan\n",
    "df_sjr[\"ISSN_norm\"]    = df_sjr[issn_sjr_col].map(_norm_issn) if issn_sjr_col else np.nan\n",
    "\n",
    "sjr_cols = [c for c in df_sjr.columns if c not in [\"ISSN_norm\",\"Journal_norm\"]]\n",
    "\n",
    "ref_sjr_issn = df_sjr.dropna(subset=[\"ISSN_norm\"]).drop_duplicates(\"ISSN_norm\").rename(columns={\"ISSN_norm\":\"ISSN_key\"})\n",
    "ref_sjr_name = df_sjr.dropna(subset=[\"Journal_norm\"]).drop_duplicates(\"Journal_norm\")\n",
    "\n",
    "# Asegurar que df_after_inc tenga ISSN_key / Journal_norm\n",
    "if \"ISSN_key\" not in df_after_inc.columns:\n",
    "    issn_col_sjr = _first_existing_col(df_after_inc, \"ISSN\",\"eISSN\",\"issn\",\"ISSN-L\")\n",
    "    df_after_inc[\"ISSN_key\"] = df_after_inc[issn_col_sjr].map(_norm_issn) if issn_col_sjr else np.nan\n",
    "if \"Journal_norm\" not in df_after_inc.columns:\n",
    "    journal_col_sjr = _first_existing_col(df_after_inc,\"Source title\",\"Journal\",\"Revista\",\"Publication Title\",\"Journal Title\",\"Source\")\n",
    "    df_after_inc[\"Journal_norm\"] = df_after_inc[journal_col_sjr].map(_norm_journal_name) if journal_col_sjr else np.nan\n",
    "\n",
    "# Merge por ISSN_key y completar por nombre\n",
    "m_sjr1 = pd.merge(df_after_inc, ref_sjr_issn[[\"ISSN_key\"] + sjr_cols], on=\"ISSN_key\", how=\"left\", suffixes=(\"\",\"_sjr\"))\n",
    "probe_sjr = \"SJR\" if \"SJR\" in m_sjr1.columns else (sjr_cols[0] if sjr_cols else None)\n",
    "mask_no_sjr = m_sjr1[probe_sjr].isna() if probe_sjr else (m_sjr1.index==m_sjr1.index)\n",
    "\n",
    "df_enriched = pd.concat([\n",
    "    m_sjr1.loc[~mask_no_sjr],\n",
    "    pd.merge(df_after_inc.loc[mask_no_sjr], ref_sjr_name[[\"Journal_norm\"] + sjr_cols], on=\"Journal_norm\", how=\"left\", suffixes=(\"\",\"_sjr\"))\n",
    "], ignore_index=True)\n",
    "\n",
    "print(\"✅ Enriquecido final:\", df_enriched.shape)\n"
   ]
  },
  {
   "cell_type": "markdown",
   "id": "42d3d9b3",
   "metadata": {},
   "source": [
    "## 💾 Exportación final"
   ]
  },
  {
   "cell_type": "code",
   "execution_count": 10,
   "id": "e8a007cf",
   "metadata": {},
   "outputs": [
    {
     "name": "stdout",
     "output_type": "stream",
     "text": [
      "📁 Exportado:\n",
      " - Excel: dataset_unificado_enriquecido_jcr_PLUS.xlsx (hoja: Consolidado_enriq )\n",
      " - CSV  : dataset_unificado_enriquecido_jcr_PLUS.csv\n"
     ]
    }
   ],
   "source": [
    "\n",
    "preferred_cols = [\n",
    "    \"ID_final\",\"matchkey\",\"DOI\",\"PMID\",\"EID\",\"UT\",\"Year_clean\",\n",
    "    \"Title\",\"Source title\",\"Journal\",\"Publication Title\",\n",
    "    \"ISSN\",\"eISSN\",\"ISSN_key\",\"Journal_norm\",\n",
    "    \"OA_Scopus\",\"OA_WoS\",\"OA_PubMed\",\"OpenAccess_flag\",\n",
    "    \"Journal Impact Factor\",\"JIF Quartile\",\"JCI Percentile\",\"JCI Quartile\",\"JIF Rank\",\"WoS Categories\",\n",
    "    \"SJR\",\"H index\",\"Best Quartile\",\"Quartile\",\"Categories\",\n",
    "]\n",
    "\n",
    "cols_final = [c for c in preferred_cols if c in df_enriched.columns] +              [c for c in df_enriched.columns if c not in preferred_cols]\n",
    "\n",
    "with pd.ExcelWriter(OUTPUT_XLSX, engine=\"openpyxl\") as writer:\n",
    "    df_enriched[cols_final].to_excel(writer, sheet_name=OUTPUT_SHEET, index=False)\n",
    "\n",
    "df_enriched[cols_final].to_csv(OUTPUT_CSV, index=False, encoding=\"utf-8\")\n",
    "\n",
    "print(\"📁 Exportado:\")\n",
    "print(\" - Excel:\", OUTPUT_XLSX, \"(hoja:\", OUTPUT_SHEET, \")\")\n",
    "print(\" - CSV  :\", OUTPUT_CSV)\n"
   ]
  },
  {
   "cell_type": "markdown",
   "id": "088e0dcd",
   "metadata": {},
   "source": [
    "## 📑 Hoja de estadísticas de deduplicación"
   ]
  },
  {
   "cell_type": "code",
   "execution_count": 11,
   "id": "95326610",
   "metadata": {},
   "outputs": [
    {
     "data": {
      "text/html": [
       "<div>\n",
       "<style scoped>\n",
       "    .dataframe tbody tr th:only-of-type {\n",
       "        vertical-align: middle;\n",
       "    }\n",
       "\n",
       "    .dataframe tbody tr th {\n",
       "        vertical-align: top;\n",
       "    }\n",
       "\n",
       "    .dataframe thead th {\n",
       "        text-align: right;\n",
       "    }\n",
       "</style>\n",
       "<table border=\"1\" class=\"dataframe\">\n",
       "  <thead>\n",
       "    <tr style=\"text-align: right;\">\n",
       "      <th></th>\n",
       "      <th>ID_type</th>\n",
       "      <th>Count</th>\n",
       "      <th>Duplicados</th>\n",
       "      <th>Eliminados</th>\n",
       "      <th>Final</th>\n",
       "    </tr>\n",
       "  </thead>\n",
       "  <tbody>\n",
       "    <tr>\n",
       "      <th>0</th>\n",
       "      <td>DOI</td>\n",
       "      <td>9930</td>\n",
       "      <td>5122.0</td>\n",
       "      <td>5122.0</td>\n",
       "      <td>4808.0</td>\n",
       "    </tr>\n",
       "    <tr>\n",
       "      <th>1</th>\n",
       "      <td>NOID</td>\n",
       "      <td>734</td>\n",
       "      <td>0.0</td>\n",
       "      <td>0.0</td>\n",
       "      <td>734.0</td>\n",
       "    </tr>\n",
       "    <tr>\n",
       "      <th>2</th>\n",
       "      <td>EID</td>\n",
       "      <td>211</td>\n",
       "      <td>0.0</td>\n",
       "      <td>0.0</td>\n",
       "      <td>211.0</td>\n",
       "    </tr>\n",
       "    <tr>\n",
       "      <th>3</th>\n",
       "      <td>OTHER</td>\n",
       "      <td>162</td>\n",
       "      <td>0.0</td>\n",
       "      <td>0.0</td>\n",
       "      <td>162.0</td>\n",
       "    </tr>\n",
       "    <tr>\n",
       "      <th>4</th>\n",
       "      <td>PMID</td>\n",
       "      <td>94</td>\n",
       "      <td>0.0</td>\n",
       "      <td>0.0</td>\n",
       "      <td>94.0</td>\n",
       "    </tr>\n",
       "  </tbody>\n",
       "</table>\n",
       "</div>"
      ],
      "text/plain": [
       "  ID_type  Count  Duplicados  Eliminados   Final\n",
       "0     DOI   9930      5122.0      5122.0  4808.0\n",
       "1    NOID    734         0.0         0.0   734.0\n",
       "2     EID    211         0.0         0.0   211.0\n",
       "3   OTHER    162         0.0         0.0   162.0\n",
       "4    PMID     94         0.0         0.0    94.0"
      ]
     },
     "metadata": {},
     "output_type": "display_data"
    },
    {
     "name": "stdout",
     "output_type": "stream",
     "text": [
      "📑 Hoja 'Stats_deduplicacion' añadida al Excel final\n"
     ]
    }
   ],
   "source": [
    "\n",
    "# Recalcular stats y exportar a hoja \"Stats_deduplicacion\"\n",
    "dup_mask = all_rows.duplicated(subset=[\"ID_final\"], keep=\"first\")\n",
    "dup_by_type = all_rows.loc[dup_mask].groupby(\"ID_type\")[\"ID_final\"].count().reset_index()\n",
    "dup_by_type.columns = [\"ID_type\", \"Duplicados\"]\n",
    "\n",
    "id_counts = all_rows[\"ID_type\"].value_counts().reset_index()\n",
    "id_counts.columns = [\"ID_type\", \"Count\"]\n",
    "\n",
    "stats_df = pd.merge(id_counts, dup_by_type, on=\"ID_type\", how=\"left\").fillna(0)\n",
    "stats_df[\"Eliminados\"] = stats_df[\"Duplicados\"]\n",
    "stats_df[\"Final\"] = stats_df[\"Count\"] - stats_df[\"Eliminados\"]\n",
    "\n",
    "with pd.ExcelWriter(OUTPUT_XLSX, engine=\"openpyxl\", mode=\"a\", if_sheet_exists=\"replace\") as writer:\n",
    "    stats_df.to_excel(writer, sheet_name=\"Stats_deduplicacion\", index=False)\n",
    "\n",
    "display(stats_df)\n",
    "print(\"📑 Hoja 'Stats_deduplicacion' añadida al Excel final\")\n"
   ]
  },
  {
   "cell_type": "markdown",
   "id": "03627225",
   "metadata": {},
   "source": [
    "## 📊 Visualizaciones (OA y rankings)"
   ]
  },
  {
   "cell_type": "code",
   "execution_count": 12,
   "id": "31ea1668",
   "metadata": {},
   "outputs": [
    {
     "data": {
      "image/png": "[encoded data removed]",
      "text/plain": [
       "<Figure size 640x480 with 1 Axes>"
      ]
     },
     "metadata": {},
     "output_type": "display_data"
    },
    {
     "data": {
      "image/png": "[encoded data removed]",
      "text/plain": [
       "<Figure size 600x400 with 1 Axes>"
      ]
     },
     "metadata": {},
     "output_type": "display_data"
    },
    {
     "data": {
      "application/vnd.plotly.v1+json": {
       "config": {
        "plotlyServerURL": "https://plot.ly"
       },
       "data": [
        {
         "hovertemplate": "Journal Impact Factor=%{text}<br>Source title=%{y}<extra></extra>",
         "legendgroup": "",
         "marker": {
          "color": "#636efa",
          "pattern": {
           "shape": ""
          }
         },
         "name": "",
         "orientation": "h",
         "showlegend": false,
         "text": {
          "bdata": "AAAAAAAgVkAAAAAAACBWQAAAAAAAoFNAmpmZmZlZUEAAAAAAAIBLQAAAAAAAgElAAAAAAAAASUAAAAAAAEBIQGdmZmZm5kZAAAAAAADARkA=",
          "dtype": "f8"
         },
         "textposition": "outside",
         "texttemplate": "%{text:.1f}",
         "type": "bar",
         "x": {
          "bdata": "AAAAAAAgVkAAAAAAACBWQAAAAAAAoFNAmpmZmZlZUEAAAAAAAIBLQAAAAAAAgElAAAAAAAAASUAAAAAAAEBIQGdmZmZm5kZAAAAAAADARkA=",
          "dtype": "f8"
         },
         "xaxis": "x",
         "y": [
          "Lancet",
          "The Lancet",
          "New England Journal of Medicine",
          "Annals of Oncology",
          "JAMA - Journal of the American Medical Association",
          "Nature Reviews Gastroenterology and Hepatology",
          "Nature Medicine",
          "Nature",
          "Science",
          "The Lancet Neurology"
         ],
         "yaxis": "y"
        }
       ],
       "layout": {
        "barmode": "relative",
        "legend": {
         "tracegroupgap": 0
        },
        "template": {
         "data": {
          "bar": [
           {
            "error_x": {
             "color": "#2a3f5f"
            },
            "error_y": {
             "color": "#2a3f5f"
            },
            "marker": {
             "line": {
              "color": "#E5ECF6",
              "width": 0.5
             },
             "pattern": {
              "fillmode": "overlay",
              "size": 10,
              "solidity": 0.2
             }
            },
            "type": "bar"
           }
          ],
          "barpolar": [
           {
            "marker": {
             "line": {
              "color": "#E5ECF6",
              "width": 0.5
             },
             "pattern": {
              "fillmode": "overlay",
              "size": 10,
              "solidity": 0.2
             }
            },
            "type": "barpolar"
           }
          ],
          "carpet": [
           {
            "aaxis": {
             "endlinecolor": "#2a3f5f",
             "gridcolor": "white",
             "linecolor": "white",
             "minorgridcolor": "white",
             "startlinecolor": "#2a3f5f"
            },
            "baxis": {
             "endlinecolor": "#2a3f5f",
             "gridcolor": "white",
             "linecolor": "white",
             "minorgridcolor": "white",
             "startlinecolor": "#2a3f5f"
            },
            "type": "carpet"
           }
          ],
          "choropleth": [
           {
            "colorbar": {
             "outlinewidth": 0,
             "ticks": ""
            },
            "type": "choropleth"
           }
          ],
          "contour": [
           {
            "colorbar": {
             "outlinewidth": 0,
             "ticks": ""
            },
            "colorscale": [
             [
              0,
              "#0d0887"
             ],
             [
              0.1111111111111111,
              "#46039f"
             ],
             [
              0.2222222222222222,
              "#7201a8"
             ],
             [
              0.3333333333333333,
              "#9c179e"
             ],
             [
              0.4444444444444444,
              "#bd3786"
             ],
             [
              0.5555555555555556,
              "#d8576b"
             ],
             [
              0.6666666666666666,
              "#ed7953"
             ],
             [
              0.7777777777777778,
              "#fb9f3a"
             ],
             [
              0.8888888888888888,
              "#fdca26"
             ],
             [
              1,
              "#f0f921"
             ]
            ],
            "type": "contour"
           }
          ],
          "contourcarpet": [
           {
            "colorbar": {
             "outlinewidth": 0,
             "ticks": ""
            },
            "type": "contourcarpet"
           }
          ],
          "heatmap": [
           {
            "colorbar": {
             "outlinewidth": 0,
             "ticks": ""
            },
            "colorscale": [
             [
              0,
              "#0d0887"
             ],
             [
              0.1111111111111111,
              "#46039f"
             ],
             [
              0.2222222222222222,
              "#7201a8"
             ],
             [
              0.3333333333333333,
              "#9c179e"
             ],
             [
              0.4444444444444444,
              "#bd3786"
             ],
             [
              0.5555555555555556,
              "#d8576b"
             ],
             [
              0.6666666666666666,
              "#ed7953"
             ],
             [
              0.7777777777777778,
              "#fb9f3a"
             ],
             [
              0.8888888888888888,
              "#fdca26"
             ],
             [
              1,
              "#f0f921"
             ]
            ],
            "type": "heatmap"
           }
          ],
          "histogram": [
           {
            "marker": {
             "pattern": {
              "fillmode": "overlay",
              "size": 10,
              "solidity": 0.2
             }
            },
            "type": "histogram"
           }
          ],
          "histogram2d": [
           {
            "colorbar": {
             "outlinewidth": 0,
             "ticks": ""
            },
            "colorscale": [
             [
              0,
              "#0d0887"
             ],
             [
              0.1111111111111111,
              "#46039f"
             ],
             [
              0.2222222222222222,
              "#7201a8"
             ],
             [
              0.3333333333333333,
              "#9c179e"
             ],
             [
              0.4444444444444444,
              "#bd3786"
             ],
             [
              0.5555555555555556,
              "#d8576b"
             ],
             [
              0.6666666666666666,
              "#ed7953"
             ],
             [
              0.7777777777777778,
              "#fb9f3a"
             ],
             [
              0.8888888888888888,
              "#fdca26"
             ],
             [
              1,
              "#f0f921"
             ]
            ],
            "type": "histogram2d"
           }
          ],
          "histogram2dcontour": [
           {
            "colorbar": {
             "outlinewidth": 0,
             "ticks": ""
            },
            "colorscale": [
             [
              0,
              "#0d0887"
             ],
             [
              0.1111111111111111,
              "#46039f"
             ],
             [
              0.2222222222222222,
              "#7201a8"
             ],
             [
              0.3333333333333333,
              "#9c179e"
             ],
             [
              0.4444444444444444,
              "#bd3786"
             ],
             [
              0.5555555555555556,
              "#d8576b"
             ],
             [
              0.6666666666666666,
              "#ed7953"
             ],
             [
              0.7777777777777778,
              "#fb9f3a"
             ],
             [
              0.8888888888888888,
              "#fdca26"
             ],
             [
              1,
              "#f0f921"
             ]
            ],
            "type": "histogram2dcontour"
           }
          ],
          "mesh3d": [
           {
            "colorbar": {
             "outlinewidth": 0,
             "ticks": ""
            },
            "type": "mesh3d"
           }
          ],
          "parcoords": [
           {
            "line": {
             "colorbar": {
              "outlinewidth": 0,
              "ticks": ""
             }
            },
            "type": "parcoords"
           }
          ],
          "pie": [
           {
            "automargin": true,
            "type": "pie"
           }
          ],
          "scatter": [
           {
            "fillpattern": {
             "fillmode": "overlay",
             "size": 10,
             "solidity": 0.2
            },
            "type": "scatter"
           }
          ],
          "scatter3d": [
           {
            "line": {
             "colorbar": {
              "outlinewidth": 0,
              "ticks": ""
             }
            },
            "marker": {
             "colorbar": {
              "outlinewidth": 0,
              "ticks": ""
             }
            },
            "type": "scatter3d"
           }
          ],
          "scattercarpet": [
           {
            "marker": {
             "colorbar": {
              "outlinewidth": 0,
              "ticks": ""
             }
            },
            "type": "scattercarpet"
           }
          ],
          "scattergeo": [
           {
            "marker": {
             "colorbar": {
              "outlinewidth": 0,
              "ticks": ""
             }
            },
            "type": "scattergeo"
           }
          ],
          "scattergl": [
           {
            "marker": {
             "colorbar": {
              "outlinewidth": 0,
              "ticks": ""
             }
            },
            "type": "scattergl"
           }
          ],
          "scattermap": [
           {
            "marker": {
             "colorbar": {
              "outlinewidth": 0,
              "ticks": ""
             }
            },
            "type": "scattermap"
           }
          ],
          "scattermapbox": [
           {
            "marker": {
             "colorbar": {
              "outlinewidth": 0,
              "ticks": ""
             }
            },
            "type": "scattermapbox"
           }
          ],
          "scatterpolar": [
           {
            "marker": {
             "colorbar": {
              "outlinewidth": 0,
              "ticks": ""
             }
            },
            "type": "scatterpolar"
           }
          ],
          "scatterpolargl": [
           {
            "marker": {
             "colorbar": {
              "outlinewidth": 0,
              "ticks": ""
             }
            },
            "type": "scatterpolargl"
           }
          ],
          "scatterternary": [
           {
            "marker": {
             "colorbar": {
              "outlinewidth": 0,
              "ticks": ""
             }
            },
            "type": "scatterternary"
           }
          ],
          "surface": [
           {
            "colorbar": {
             "outlinewidth": 0,
             "ticks": ""
            },
            "colorscale": [
             [
              0,
              "#0d0887"
             ],
             [
              0.1111111111111111,
              "#46039f"
             ],
             [
              0.2222222222222222,
              "#7201a8"
             ],
             [
              0.3333333333333333,
              "#9c179e"
             ],
             [
              0.4444444444444444,
              "#bd3786"
             ],
             [
              0.5555555555555556,
              "#d8576b"
             ],
             [
              0.6666666666666666,
              "#ed7953"
             ],
             [
              0.7777777777777778,
              "#fb9f3a"
             ],
             [
              0.8888888888888888,
              "#fdca26"
             ],
             [
              1,
              "#f0f921"
             ]
            ],
            "type": "surface"
           }
          ],
          "table": [
           {
            "cells": {
             "fill": {
              "color": "#EBF0F8"
             },
             "line": {
              "color": "white"
             }
            },
            "header": {
             "fill": {
              "color": "#C8D4E3"
             },
             "line": {
              "color": "white"
             }
            },
            "type": "table"
           }
          ]
         },
         "layout": {
          "annotationdefaults": {
           "arrowcolor": "#2a3f5f",
           "arrowhead": 0,
           "arrowwidth": 1
          },
          "autotypenumbers": "strict",
          "coloraxis": {
           "colorbar": {
            "outlinewidth": 0,
            "ticks": ""
           }
          },
          "colorscale": {
           "diverging": [
            [
             0,
             "#8e0152"
            ],
            [
             0.1,
             "#c51b7d"
            ],
            [
             0.2,
             "#de77ae"
            ],
            [
             0.3,
             "#f1b6da"
            ],
            [
             0.4,
             "#fde0ef"
            ],
            [
             0.5,
             "#f7f7f7"
            ],
            [
             0.6,
             "#e6f5d0"
            ],
            [
             0.7,
             "#b8e186"
            ],
            [
             0.8,
             "#7fbc41"
            ],
            [
             0.9,
             "#4d9221"
            ],
            [
             1,
             "#276419"
            ]
           ],
           "sequential": [
            [
             0,
             "#0d0887"
            ],
            [
             0.1111111111111111,
             "#46039f"
            ],
            [
             0.2222222222222222,
             "#7201a8"
            ],
            [
             0.3333333333333333,
             "#9c179e"
            ],
            [
             0.4444444444444444,
             "#bd3786"
            ],
            [
             0.5555555555555556,
             "#d8576b"
            ],
            [
             0.6666666666666666,
             "#ed7953"
            ],
            [
             0.7777777777777778,
             "#fb9f3a"
            ],
            [
             0.8888888888888888,
             "#fdca26"
            ],
            [
             1,
             "#f0f921"
            ]
           ],
           "sequentialminus": [
            [
             0,
             "#0d0887"
            ],
            [
             0.1111111111111111,
             "#46039f"
            ],
            [
             0.2222222222222222,
             "#7201a8"
            ],
            [
             0.3333333333333333,
             "#9c179e"
            ],
            [
             0.4444444444444444,
             "#bd3786"
            ],
            [
             0.5555555555555556,
             "#d8576b"
            ],
            [
             0.6666666666666666,
             "#ed7953"
            ],
            [
             0.7777777777777778,
             "#fb9f3a"
            ],
            [
             0.8888888888888888,
             "#fdca26"
            ],
            [
             1,
             "#f0f921"
            ]
           ]
          },
          "colorway": [
           "#636efa",
           "#EF553B",
           "#00cc96",
           "#ab63fa",
           "#FFA15A",
           "#19d3f3",
           "#FF6692",
           "#B6E880",
           "#FF97FF",
           "#FECB52"
          ],
          "font": {
           "color": "#2a3f5f"
          },
          "geo": {
           "bgcolor": "white",
           "lakecolor": "white",
           "landcolor": "#E5ECF6",
           "showlakes": true,
           "showland": true,
           "subunitcolor": "white"
          },
          "hoverlabel": {
           "align": "left"
          },
          "hovermode": "closest",
          "mapbox": {
           "style": "light"
          },
          "paper_bgcolor": "white",
          "plot_bgcolor": "#E5ECF6",
          "polar": {
           "angularaxis": {
            "gridcolor": "white",
            "linecolor": "white",
            "ticks": ""
           },
           "bgcolor": "#E5ECF6",
           "radialaxis": {
            "gridcolor": "white",
            "linecolor": "white",
            "ticks": ""
           }
          },
          "scene": {
           "xaxis": {
            "backgroundcolor": "#E5ECF6",
            "gridcolor": "white",
            "gridwidth": 2,
            "linecolor": "white",
            "showbackground": true,
            "ticks": "",
            "zerolinecolor": "white"
           },
           "yaxis": {
            "backgroundcolor": "#E5ECF6",
            "gridcolor": "white",
            "gridwidth": 2,
            "linecolor": "white",
            "showbackground": true,
            "ticks": "",
            "zerolinecolor": "white"
           },
           "zaxis": {
            "backgroundcolor": "#E5ECF6",
            "gridcolor": "white",
            "gridwidth": 2,
            "linecolor": "white",
            "showbackground": true,
            "ticks": "",
            "zerolinecolor": "white"
           }
          },
          "shapedefaults": {
           "line": {
            "color": "#2a3f5f"
           }
          },
          "ternary": {
           "aaxis": {
            "gridcolor": "white",
            "linecolor": "white",
            "ticks": ""
           },
           "baxis": {
            "gridcolor": "white",
            "linecolor": "white",
            "ticks": ""
           },
           "bgcolor": "#E5ECF6",
           "caxis": {
            "gridcolor": "white",
            "linecolor": "white",
            "ticks": ""
           }
          },
          "title": {
           "x": 0.05
          },
          "xaxis": {
           "automargin": true,
           "gridcolor": "white",
           "linecolor": "white",
           "ticks": "",
           "title": {
            "standoff": 15
           },
           "zerolinecolor": "white",
           "zerolinewidth": 2
          },
          "yaxis": {
           "automargin": true,
           "gridcolor": "white",
           "linecolor": "white",
           "ticks": "",
           "title": {
            "standoff": 15
           },
           "zerolinecolor": "white",
           "zerolinewidth": 2
          }
         }
        },
        "title": {
         "text": "Top 10 revistas por JIF"
        },
        "xaxis": {
         "anchor": "y",
         "domain": [
          0,
          1
         ],
         "title": {
          "text": "Journal Impact Factor"
         }
        },
        "yaxis": {
         "anchor": "x",
         "autorange": "reversed",
         "domain": [
          0,
          1
         ],
         "title": {
          "text": "Source title"
         }
        }
       }
      },
      "image/png": "[encoded data removed]"
     },
     "metadata": {},
     "output_type": "display_data"
    },
    {
     "data": {
      "application/vnd.plotly.v1+json": {
       "config": {
        "plotlyServerURL": "https://plot.ly"
       },
       "data": [
        {
         "hovertemplate": "SJR=%{text}<br>Source title=%{y}<extra></extra>",
         "legendgroup": "",
         "marker": {
          "color": "#636efa",
          "pattern": {
           "shape": ""
          }
         },
         "name": "",
         "orientation": "h",
         "showlegend": false,
         "text": {
          "bdata": "+n5qvHQTM0DfT42XbhIzQGiR7Xw/VTJAfT81XrpJMkC8dJMYBJYwQGDl0CLbOShAYOXQIts5KEBoke18P3UnQGiR7Xw/dSdAF9nO91OjJkA=",
          "dtype": "f8"
         },
         "textposition": "outside",
         "texttemplate": "%{text:.3f}",
         "type": "bar",
         "x": {
          "bdata": "+n5qvHQTM0DfT42XbhIzQGiR7Xw/VTJAfT81XrpJMkC8dJMYBJYwQGDl0CLbOShAYOXQIts5KEBoke18P3UnQGiR7Xw/dSdAF9nO91OjJkA=",
          "dtype": "f8"
         },
         "xaxis": "x",
         "y": [
          "New England Journal of Medicine",
          "Annals of Oncology",
          "Nature Medicine",
          "Nature",
          "Nature Genetics",
          "Lancet",
          "The Lancet",
          "The Lancet Neurology",
          "Lancet Neurology",
          "The Lancet Oncology"
         ],
         "yaxis": "y"
        }
       ],
       "layout": {
        "barmode": "relative",
        "legend": {
         "tracegroupgap": 0
        },
        "template": {
         "data": {
          "bar": [
           {
            "error_x": {
             "color": "#2a3f5f"
            },
            "error_y": {
             "color": "#2a3f5f"
            },
            "marker": {
             "line": {
              "color": "#E5ECF6",
              "width": 0.5
             },
             "pattern": {
              "fillmode": "overlay",
              "size": 10,
              "solidity": 0.2
             }
            },
            "type": "bar"
           }
          ],
          "barpolar": [
           {
            "marker": {
             "line": {
              "color": "#E5ECF6",
              "width": 0.5
             },
             "pattern": {
              "fillmode": "overlay",
              "size": 10,
              "solidity": 0.2
             }
            },
            "type": "barpolar"
           }
          ],
          "carpet": [
           {
            "aaxis": {
             "endlinecolor": "#2a3f5f",
             "gridcolor": "white",
             "linecolor": "white",
             "minorgridcolor": "white",
             "startlinecolor": "#2a3f5f"
            },
            "baxis": {
             "endlinecolor": "#2a3f5f",
             "gridcolor": "white",
             "linecolor": "white",
             "minorgridcolor": "white",
             "startlinecolor": "#2a3f5f"
            },
            "type": "carpet"
           }
          ],
          "choropleth": [
           {
            "colorbar": {
             "outlinewidth": 0,
             "ticks": ""
            },
            "type": "choropleth"
           }
          ],
          "contour": [
           {
            "colorbar": {
             "outlinewidth": 0,
             "ticks": ""
            },
            "colorscale": [
             [
              0,
              "#0d0887"
             ],
             [
              0.1111111111111111,
              "#46039f"
             ],
             [
              0.2222222222222222,
              "#7201a8"
             ],
             [
              0.3333333333333333,
              "#9c179e"
             ],
             [
              0.4444444444444444,
              "#bd3786"
             ],
             [
              0.5555555555555556,
              "#d8576b"
             ],
             [
              0.6666666666666666,
              "#ed7953"
             ],
             [
              0.7777777777777778,
              "#fb9f3a"
             ],
             [
              0.8888888888888888,
              "#fdca26"
             ],
             [
              1,
              "#f0f921"
             ]
            ],
            "type": "contour"
           }
          ],
          "contourcarpet": [
           {
            "colorbar": {
             "outlinewidth": 0,
             "ticks": ""
            },
            "type": "contourcarpet"
           }
          ],
          "heatmap": [
           {
            "colorbar": {
             "outlinewidth": 0,
             "ticks": ""
            },
            "colorscale": [
             [
              0,
              "#0d0887"
             ],
             [
              0.1111111111111111,
              "#46039f"
             ],
             [
              0.2222222222222222,
              "#7201a8"
             ],
             [
              0.3333333333333333,
              "#9c179e"
             ],
             [
              0.4444444444444444,
              "#bd3786"
             ],
             [
              0.5555555555555556,
              "#d8576b"
             ],
             [
              0.6666666666666666,
              "#ed7953"
             ],
             [
              0.7777777777777778,
              "#fb9f3a"
             ],
             [
              0.8888888888888888,
              "#fdca26"
             ],
             [
              1,
              "#f0f921"
             ]
            ],
            "type": "heatmap"
           }
          ],
          "histogram": [
           {
            "marker": {
             "pattern": {
              "fillmode": "overlay",
              "size": 10,
              "solidity": 0.2
             }
            },
            "type": "histogram"
           }
          ],
          "histogram2d": [
           {
            "colorbar": {
             "outlinewidth": 0,
             "ticks": ""
            },
            "colorscale": [
             [
              0,
              "#0d0887"
             ],
             [
              0.1111111111111111,
              "#46039f"
             ],
             [
              0.2222222222222222,
              "#7201a8"
             ],
             [
              0.3333333333333333,
              "#9c179e"
             ],
             [
              0.4444444444444444,
              "#bd3786"
             ],
             [
              0.5555555555555556,
              "#d8576b"
             ],
             [
              0.6666666666666666,
              "#ed7953"
             ],
             [
              0.7777777777777778,
              "#fb9f3a"
             ],
             [
              0.8888888888888888,
              "#fdca26"
             ],
             [
              1,
              "#f0f921"
             ]
            ],
            "type": "histogram2d"
           }
          ],
          "histogram2dcontour": [
           {
            "colorbar": {
             "outlinewidth": 0,
             "ticks": ""
            },
            "colorscale": [
             [
              0,
              "#0d0887"
             ],
             [
              0.1111111111111111,
              "#46039f"
             ],
             [
              0.2222222222222222,
              "#7201a8"
             ],
             [
              0.3333333333333333,
              "#9c179e"
             ],
             [
              0.4444444444444444,
              "#bd3786"
             ],
             [
              0.5555555555555556,
              "#d8576b"
             ],
             [
              0.6666666666666666,
              "#ed7953"
             ],
             [
              0.7777777777777778,
              "#fb9f3a"
             ],
             [
              0.8888888888888888,
              "#fdca26"
             ],
             [
              1,
              "#f0f921"
             ]
            ],
            "type": "histogram2dcontour"
           }
          ],
          "mesh3d": [
           {
            "colorbar": {
             "outlinewidth": 0,
             "ticks": ""
            },
            "type": "mesh3d"
           }
          ],
          "parcoords": [
           {
            "line": {
             "colorbar": {
              "outlinewidth": 0,
              "ticks": ""
             }
            },
            "type": "parcoords"
           }
          ],
          "pie": [
           {
            "automargin": true,
            "type": "pie"
           }
          ],
          "scatter": [
           {
            "fillpattern": {
             "fillmode": "overlay",
             "size": 10,
             "solidity": 0.2
            },
            "type": "scatter"
           }
          ],
          "scatter3d": [
           {
            "line": {
             "colorbar": {
              "outlinewidth": 0,
              "ticks": ""
             }
            },
            "marker": {
             "colorbar": {
              "outlinewidth": 0,
              "ticks": ""
             }
            },
            "type": "scatter3d"
           }
          ],
          "scattercarpet": [
           {
            "marker": {
             "colorbar": {
              "outlinewidth": 0,
              "ticks": ""
             }
            },
            "type": "scattercarpet"
           }
          ],
          "scattergeo": [
           {
            "marker": {
             "colorbar": {
              "outlinewidth": 0,
              "ticks": ""
             }
            },
            "type": "scattergeo"
           }
          ],
          "scattergl": [
           {
            "marker": {
             "colorbar": {
              "outlinewidth": 0,
              "ticks": ""
             }
            },
            "type": "scattergl"
           }
          ],
          "scattermap": [
           {
            "marker": {
             "colorbar": {
              "outlinewidth": 0,
              "ticks": ""
             }
            },
            "type": "scattermap"
           }
          ],
          "scattermapbox": [
           {
            "marker": {
             "colorbar": {
              "outlinewidth": 0,
              "ticks": ""
             }
            },
            "type": "scattermapbox"
           }
          ],
          "scatterpolar": [
           {
            "marker": {
             "colorbar": {
              "outlinewidth": 0,
              "ticks": ""
             }
            },
            "type": "scatterpolar"
           }
          ],
          "scatterpolargl": [
           {
            "marker": {
             "colorbar": {
              "outlinewidth": 0,
              "ticks": ""
             }
            },
            "type": "scatterpolargl"
           }
          ],
          "scatterternary": [
           {
            "marker": {
             "colorbar": {
              "outlinewidth": 0,
              "ticks": ""
             }
            },
            "type": "scatterternary"
           }
          ],
          "surface": [
           {
            "colorbar": {
             "outlinewidth": 0,
             "ticks": ""
            },
            "colorscale": [
             [
              0,
              "#0d0887"
             ],
             [
              0.1111111111111111,
              "#46039f"
             ],
             [
              0.2222222222222222,
              "#7201a8"
             ],
             [
              0.3333333333333333,
              "#9c179e"
             ],
             [
              0.4444444444444444,
              "#bd3786"
             ],
             [
              0.5555555555555556,
              "#d8576b"
             ],
             [
              0.6666666666666666,
              "#ed7953"
             ],
             [
              0.7777777777777778,
              "#fb9f3a"
             ],
             [
              0.8888888888888888,
              "#fdca26"
             ],
             [
              1,
              "#f0f921"
             ]
            ],
            "type": "surface"
           }
          ],
          "table": [
           {
            "cells": {
             "fill": {
              "color": "#EBF0F8"
             },
             "line": {
              "color": "white"
             }
            },
            "header": {
             "fill": {
              "color": "#C8D4E3"
             },
             "line": {
              "color": "white"
             }
            },
            "type": "table"
           }
          ]
         },
         "layout": {
          "annotationdefaults": {
           "arrowcolor": "#2a3f5f",
           "arrowhead": 0,
           "arrowwidth": 1
          },
          "autotypenumbers": "strict",
          "coloraxis": {
           "colorbar": {
            "outlinewidth": 0,
            "ticks": ""
           }
          },
          "colorscale": {
           "diverging": [
            [
             0,
             "#8e0152"
            ],
            [
             0.1,
             "#c51b7d"
            ],
            [
             0.2,
             "#de77ae"
            ],
            [
             0.3,
             "#f1b6da"
            ],
            [
             0.4,
             "#fde0ef"
            ],
            [
             0.5,
             "#f7f7f7"
            ],
            [
             0.6,
             "#e6f5d0"
            ],
            [
             0.7,
             "#b8e186"
            ],
            [
             0.8,
             "#7fbc41"
            ],
            [
             0.9,
             "#4d9221"
            ],
            [
             1,
             "#276419"
            ]
           ],
           "sequential": [
            [
             0,
             "#0d0887"
            ],
            [
             0.1111111111111111,
             "#46039f"
            ],
            [
             0.2222222222222222,
             "#7201a8"
            ],
            [
             0.3333333333333333,
             "#9c179e"
            ],
            [
             0.4444444444444444,
             "#bd3786"
            ],
            [
             0.5555555555555556,
             "#d8576b"
            ],
            [
             0.6666666666666666,
             "#ed7953"
            ],
            [
             0.7777777777777778,
             "#fb9f3a"
            ],
            [
             0.8888888888888888,
             "#fdca26"
            ],
            [
             1,
             "#f0f921"
            ]
           ],
           "sequentialminus": [
            [
             0,
             "#0d0887"
            ],
            [
             0.1111111111111111,
             "#46039f"
            ],
            [
             0.2222222222222222,
             "#7201a8"
            ],
            [
             0.3333333333333333,
             "#9c179e"
            ],
            [
             0.4444444444444444,
             "#bd3786"
            ],
            [
             0.5555555555555556,
             "#d8576b"
            ],
            [
             0.6666666666666666,
             "#ed7953"
            ],
            [
             0.7777777777777778,
             "#fb9f3a"
            ],
            [
             0.8888888888888888,
             "#fdca26"
            ],
            [
             1,
             "#f0f921"
            ]
           ]
          },
          "colorway": [
           "#636efa",
           "#EF553B",
           "#00cc96",
           "#ab63fa",
           "#FFA15A",
           "#19d3f3",
           "#FF6692",
           "#B6E880",
           "#FF97FF",
           "#FECB52"
          ],
          "font": {
           "color": "#2a3f5f"
          },
          "geo": {
           "bgcolor": "white",
           "lakecolor": "white",
           "landcolor": "#E5ECF6",
           "showlakes": true,
           "showland": true,
           "subunitcolor": "white"
          },
          "hoverlabel": {
           "align": "left"
          },
          "hovermode": "closest",
          "mapbox": {
           "style": "light"
          },
          "paper_bgcolor": "white",
          "plot_bgcolor": "#E5ECF6",
          "polar": {
           "angularaxis": {
            "gridcolor": "white",
            "linecolor": "white",
            "ticks": ""
           },
           "bgcolor": "#E5ECF6",
           "radialaxis": {
            "gridcolor": "white",
            "linecolor": "white",
            "ticks": ""
           }
          },
          "scene": {
           "xaxis": {
            "backgroundcolor": "#E5ECF6",
            "gridcolor": "white",
            "gridwidth": 2,
            "linecolor": "white",
            "showbackground": true,
            "ticks": "",
            "zerolinecolor": "white"
           },
           "yaxis": {
            "backgroundcolor": "#E5ECF6",
            "gridcolor": "white",
            "gridwidth": 2,
            "linecolor": "white",
            "showbackground": true,
            "ticks": "",
            "zerolinecolor": "white"
           },
           "zaxis": {
            "backgroundcolor": "#E5ECF6",
            "gridcolor": "white",
            "gridwidth": 2,
            "linecolor": "white",
            "showbackground": true,
            "ticks": "",
            "zerolinecolor": "white"
           }
          },
          "shapedefaults": {
           "line": {
            "color": "#2a3f5f"
           }
          },
          "ternary": {
           "aaxis": {
            "gridcolor": "white",
            "linecolor": "white",
            "ticks": ""
           },
           "baxis": {
            "gridcolor": "white",
            "linecolor": "white",
            "ticks": ""
           },
           "bgcolor": "#E5ECF6",
           "caxis": {
            "gridcolor": "white",
            "linecolor": "white",
            "ticks": ""
           }
          },
          "title": {
           "x": 0.05
          },
          "xaxis": {
           "automargin": true,
           "gridcolor": "white",
           "linecolor": "white",
           "ticks": "",
           "title": {
            "standoff": 15
           },
           "zerolinecolor": "white",
           "zerolinewidth": 2
          },
          "yaxis": {
           "automargin": true,
           "gridcolor": "white",
           "linecolor": "white",
           "ticks": "",
           "title": {
            "standoff": 15
           },
           "zerolinecolor": "white",
           "zerolinewidth": 2
          }
         }
        },
        "title": {
         "text": "Top 10 revistas por SJR"
        },
        "xaxis": {
         "anchor": "y",
         "domain": [
          0,
          1
         ],
         "title": {
          "text": "SJR"
         }
        },
        "yaxis": {
         "anchor": "x",
         "autorange": "reversed",
         "domain": [
          0,
          1
         ],
         "title": {
          "text": "Source title"
         }
        }
       }
      },
      "image/png": "[encoded data removed]"
     },
     "metadata": {},
     "output_type": "display_data"
    },
    {
     "data": {
      "image/png": "[encoded data removed]",
      "text/plain": [
       "<Figure size 600x400 with 1 Axes>"
      ]
     },
     "metadata": {},
     "output_type": "display_data"
    }
   ],
   "source": [
    "\n",
    "# 1) Torta OA global\n",
    "oa_counts = df_enriched[\"OpenAccess_flag\"].value_counts()\n",
    "fig1, ax1 = plt.subplots()\n",
    "ax1.pie(oa_counts, labels=[\"Closed Access\",\"Open Access\"], autopct=\"%1.1f%%\", startangle=90)\n",
    "ax1.set_title(\"Distribución global Open Access\")\n",
    "plt.show()\n",
    "\n",
    "# 2) Barras OA por origen\n",
    "oa_sources = {}\n",
    "for col in [\"OA_Scopus\",\"OA_WoS\",\"OA_PubMed\"]:\n",
    "    if col in df_enriched.columns:\n",
    "        oa_sources[col] = df_enriched[col].mean() * 100\n",
    "\n",
    "if oa_sources:\n",
    "    plt.figure(figsize=(6,4))\n",
    "    plt.bar(list(oa_sources.keys()), list(oa_sources.values()))\n",
    "    plt.ylabel(\"% OA\")\n",
    "    plt.title(\"Porcentaje de Open Access por origen\")\n",
    "    plt.show()\n",
    "\n",
    "# 3) Top 10 por JIF\n",
    "if \"Journal Impact Factor\" in df_enriched.columns:\n",
    "    top_jif = (df_enriched[[\"Source title\",\"Journal Impact Factor\"]]\n",
    "               .dropna()\n",
    "               .drop_duplicates()\n",
    "               .sort_values(by=\"Journal Impact Factor\", ascending=False)\n",
    "               .head(10))\n",
    "    fig2 = px.bar(top_jif, x=\"Journal Impact Factor\", y=\"Source title\", orientation=\"h\",\n",
    "                  title=\"Top 10 revistas por JIF\", text=\"Journal Impact Factor\")\n",
    "    fig2.update_traces(texttemplate=\"%{text:.1f}\", textposition=\"outside\")\n",
    "    fig2.update_layout(yaxis=dict(autorange=\"reversed\"))\n",
    "    fig2.show()\n",
    "\n",
    "# 4) Top 10 por SJR\n",
    "if \"SJR\" in df_enriched.columns:\n",
    "    top_sjr = (df_enriched[[\"Source title\",\"SJR\"]]\n",
    "               .dropna()\n",
    "               .drop_duplicates()\n",
    "               .sort_values(by=\"SJR\", ascending=False)\n",
    "               .head(10))\n",
    "    fig3 = px.bar(top_sjr, x=\"SJR\", y=\"Source title\", orientation=\"h\",\n",
    "                  title=\"Top 10 revistas por SJR\", text=\"SJR\")\n",
    "    fig3.update_traces(texttemplate=\"%{text:.3f}\", textposition=\"outside\")\n",
    "    fig3.update_layout(yaxis=dict(autorange=\"reversed\"))\n",
    "    fig3.show()\n",
    "\n",
    "# 5) Distribución por cuartiles JCR\n",
    "if \"JIF Quartile\" in df_enriched.columns:\n",
    "    jcr_counts = (df_enriched[\"JIF Quartile\"].dropna().value_counts().reindex([\"Q1\",\"Q2\",\"Q3\",\"Q4\"], fill_value=0))\n",
    "    plt.figure(figsize=(6,4))\n",
    "    plt.bar(jcr_counts.index, jcr_counts.values)\n",
    "    plt.title(\"Distribución de publicaciones por cuartil JCR\")\n",
    "    plt.ylabel(\"N° publicaciones\")\n",
    "    plt.xlabel(\"Cuartil\")\n",
    "    plt.show()\n",
    "\n",
    "# 6) Distribución por cuartiles SJR\n",
    "if \"Best Quartile\" in df_enriched.columns:\n",
    "    sjr_counts = (df_enriched[\"Best Quartile\"].dropna().value_counts().reindex([\"Q1\",\"Q2\",\"Q3\",\"Q4\"], fill_value=0))\n",
    "    plt.figure(figsize=(6,4))\n",
    "    plt.bar(sjr_counts.index, sjr_counts.values)\n",
    "    plt.title(\"Distribución de publicaciones por cuartil SJR\")\n",
    "    plt.ylabel(\"N° publicaciones\")\n",
    "    plt.xlabel(\"Cuartil\")\n",
    "    plt.show()\n"
   ]
  },
  {
   "cell_type": "code",
   "execution_count": null,
   "id": "ad90aaa7-11e6-454b-9226-609012d40568",
   "metadata": {},
   "outputs": [],
   "source": []
  },
  {
   "cell_type": "code",
   "execution_count": null,
   "id": "bf754fc5-e78e-4119-b88c-182619c58d52",
   "metadata": {},
   "outputs": [],
   "source": []
  }
 ],
 "metadata": {
  "kernelspec": {
   "display_name": "Python [conda env:base] *",
   "language": "python",
   "name": "conda-base-py"
  },
  "language_info": {
   "codemirror_mode": {
    "name": "ipython",
    "version": 3
   },
   "file_extension": ".py",
   "mimetype": "text/x-python",
   "name": "python",
   "nbconvert_exporter": "python",
   "pygments_lexer": "ipython3",
   "version": "3.13.5"
  }
 },
 "nbformat": 4,
 "nbformat_minor": 5
}
